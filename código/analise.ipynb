{
 "cells": [
  {
   "cell_type": "markdown",
   "metadata": {},
   "source": [
    "# Introdução"
   ]
  },
  {
   "cell_type": "markdown",
   "metadata": {},
   "source": [
    "A análise abaixo foi feita utilizando dados do da prefeitura do Recife que foram disponibilizadps no site (http://dados.recife.pe.gov.br/it/dataset/destinacao-de-residuos-solidos)\n",
    "\n",
    "\n",
    "# Motivação\n",
    "A motivação para este projeto é para treinar minha cocepção e conhecimentos com análise de dados com python, bibliotecas relacionadas e jupyter. Quero aprender novos conceitos como tratamento de dados, visão análitica e exploratória além de ter uma boa análise Estátisca com esse projeto.\n",
    "\n",
    "# Perguntas que tentarei responder através da análise\n",
    "- Qual é a distribuição dos tipos de resíduos descartados nas ecoestações e econúcleos?; \n",
    "- Qual é a distribuição dos tipos de resíduos descartados nas ecoestações e econúcleos?;\n",
    "- Qual é a localização geográfica das ecoestações e econúcleos?;\n",
    "- Qual é a média de resíduos descartados por dia em cada ecoestação e econúcleo?;\n",
    "- Existe uma correlação entre a localização das ecoestações/econúcleos e o perfil socioeconômico das áreas circundantes?; \n",
    "- Entre outras perguntas que podem surgir\n",
    "\n",
    "\n",
    "# Objetivo\n",
    "O objetivo principal é obter insights que possam informar políticas públicas, estratégias de gestão de resíduos e programas de educação ambiental, visando reduzir o impacto ambiental do descarte inadequado e promover a sustentabilidade.\n",
    "\n",
    "# Conclusão\n",
    " Ao responder às perguntas acima e analisar os dados, esperamos obter uma compreensão mais profunda do sistema de descarte de resíduos na comunidade, identificar áreas de intervenção prioritárias e desenvolver estratégias eficazes para promover a gestão sustentável de resíduos e a conscientização ambiental.\n"
   ]
  },
  {
   "cell_type": "markdown",
   "metadata": {},
   "source": [
    "# 1. Imports"
   ]
  },
  {
   "cell_type": "code",
   "execution_count": 5,
   "metadata": {},
   "outputs": [],
   "source": [
    "import pandas as pd\n",
    "import numpy as np\n",
    "import seaborn as sns\n",
    "import matplotlib.pyplot as plt"
   ]
  },
  {
   "cell_type": "markdown",
   "metadata": {},
   "source": [
    "# 2. Carregando DataSet"
   ]
  },
  {
   "cell_type": "code",
   "execution_count": 6,
   "metadata": {},
   "outputs": [
    {
     "data": {
      "text/html": [
       "<div>\n",
       "<style scoped>\n",
       "    .dataframe tbody tr th:only-of-type {\n",
       "        vertical-align: middle;\n",
       "    }\n",
       "\n",
       "    .dataframe tbody tr th {\n",
       "        vertical-align: top;\n",
       "    }\n",
       "\n",
       "    .dataframe thead th {\n",
       "        text-align: right;\n",
       "    }\n",
       "</style>\n",
       "<table border=\"1\" class=\"dataframe\">\n",
       "  <thead>\n",
       "    <tr style=\"text-align: right;\">\n",
       "      <th></th>\n",
       "      <th>_id</th>\n",
       "      <th>tiporesiduo</th>\n",
       "      <th>nome</th>\n",
       "      <th>bairro</th>\n",
       "      <th>localizacao</th>\n",
       "      <th>endereco</th>\n",
       "      <th>complemento</th>\n",
       "      <th>observacao</th>\n",
       "      <th>latitude</th>\n",
       "      <th>longitude</th>\n",
       "      <th>residuo_construcao_civil</th>\n",
       "      <th>residuo_solido_organico</th>\n",
       "      <th>residuo_volumoso</th>\n",
       "      <th>residuo_reciclavel</th>\n",
       "    </tr>\n",
       "  </thead>\n",
       "  <tbody>\n",
       "    <tr>\n",
       "      <th>0</th>\n",
       "      <td>1</td>\n",
       "      <td>Materiais Recicláveis</td>\n",
       "      <td>Cooperativa</td>\n",
       "      <td>São José</td>\n",
       "      <td>Avenida Sul</td>\n",
       "      <td>Avenida Sul</td>\n",
       "      <td>s/n</td>\n",
       "      <td>Cooperativa</td>\n",
       "      <td>-8.075631</td>\n",
       "      <td>-34.891624</td>\n",
       "      <td>NÃO</td>\n",
       "      <td>NÃO</td>\n",
       "      <td>NÃO</td>\n",
       "      <td>SIM</td>\n",
       "    </tr>\n",
       "    <tr>\n",
       "      <th>1</th>\n",
       "      <td>2</td>\n",
       "      <td>Materiais Recicláveis</td>\n",
       "      <td>Cooperativa</td>\n",
       "      <td>São José</td>\n",
       "      <td>Avenida Sul</td>\n",
       "      <td>Avenida Sul</td>\n",
       "      <td>s/n</td>\n",
       "      <td>Cooperativa</td>\n",
       "      <td>-8.075631</td>\n",
       "      <td>-34.891624</td>\n",
       "      <td>NÃO</td>\n",
       "      <td>NÃO</td>\n",
       "      <td>NÃO</td>\n",
       "      <td>SIM</td>\n",
       "    </tr>\n",
       "    <tr>\n",
       "      <th>2</th>\n",
       "      <td>3</td>\n",
       "      <td>Materiais Recicláveis</td>\n",
       "      <td>Cooperativa</td>\n",
       "      <td>Dois Unidos</td>\n",
       "      <td>Av. Chagas Ferreira</td>\n",
       "      <td>Av. Chagas Ferreira</td>\n",
       "      <td>601</td>\n",
       "      <td>Cooperativa</td>\n",
       "      <td>-8.005045</td>\n",
       "      <td>-34.912247</td>\n",
       "      <td>NÃO</td>\n",
       "      <td>NÃO</td>\n",
       "      <td>NÃO</td>\n",
       "      <td>SIM</td>\n",
       "    </tr>\n",
       "    <tr>\n",
       "      <th>3</th>\n",
       "      <td>4</td>\n",
       "      <td>Materiais Recicláveis</td>\n",
       "      <td>Cooperativa</td>\n",
       "      <td>Torre</td>\n",
       "      <td>Rua Eliezer Olímpio de Moura</td>\n",
       "      <td>Rua Eliezer Olímpio de Moura</td>\n",
       "      <td>100</td>\n",
       "      <td>Cooperativa</td>\n",
       "      <td>-8.044426</td>\n",
       "      <td>-34.912990</td>\n",
       "      <td>NÃO</td>\n",
       "      <td>NÃO</td>\n",
       "      <td>NÃO</td>\n",
       "      <td>SIM</td>\n",
       "    </tr>\n",
       "    <tr>\n",
       "      <th>4</th>\n",
       "      <td>5</td>\n",
       "      <td>Materiais Recicláveis</td>\n",
       "      <td>Cooperativa</td>\n",
       "      <td>São José</td>\n",
       "      <td>Travessa do Gusmão</td>\n",
       "      <td>Travessa do Gusmão</td>\n",
       "      <td>178</td>\n",
       "      <td>Cooperativa</td>\n",
       "      <td>-8.071821</td>\n",
       "      <td>-34.886728</td>\n",
       "      <td>NÃO</td>\n",
       "      <td>NÃO</td>\n",
       "      <td>NÃO</td>\n",
       "      <td>SIM</td>\n",
       "    </tr>\n",
       "  </tbody>\n",
       "</table>\n",
       "</div>"
      ],
      "text/plain": [
       "   _id            tiporesiduo         nome       bairro  \\\n",
       "0    1  Materiais Recicláveis  Cooperativa     São José   \n",
       "1    2  Materiais Recicláveis  Cooperativa     São José   \n",
       "2    3  Materiais Recicláveis  Cooperativa  Dois Unidos   \n",
       "3    4  Materiais Recicláveis  Cooperativa        Torre   \n",
       "4    5  Materiais Recicláveis  Cooperativa     São José   \n",
       "\n",
       "                    localizacao                      endereco complemento  \\\n",
       "0                   Avenida Sul                   Avenida Sul         s/n   \n",
       "1                   Avenida Sul                   Avenida Sul         s/n   \n",
       "2           Av. Chagas Ferreira           Av. Chagas Ferreira         601   \n",
       "3  Rua Eliezer Olímpio de Moura  Rua Eliezer Olímpio de Moura         100   \n",
       "4            Travessa do Gusmão            Travessa do Gusmão         178   \n",
       "\n",
       "    observacao  latitude  longitude residuo_construcao_civil  \\\n",
       "0  Cooperativa -8.075631 -34.891624                      NÃO   \n",
       "1  Cooperativa -8.075631 -34.891624                      NÃO   \n",
       "2  Cooperativa -8.005045 -34.912247                      NÃO   \n",
       "3  Cooperativa -8.044426 -34.912990                      NÃO   \n",
       "4  Cooperativa -8.071821 -34.886728                      NÃO   \n",
       "\n",
       "  residuo_solido_organico residuo_volumoso residuo_reciclavel  \n",
       "0                     NÃO              NÃO                SIM  \n",
       "1                     NÃO              NÃO                SIM  \n",
       "2                     NÃO              NÃO                SIM  \n",
       "3                     NÃO              NÃO                SIM  \n",
       "4                     NÃO              NÃO                SIM  "
      ]
     },
     "execution_count": 6,
     "metadata": {},
     "output_type": "execute_result"
    }
   ],
   "source": [
    "df = pd.read_csv(\"../dataset/2f3a8820-8680-4768-9f27-b5105239482a.csv\")\n",
    "df.head()"
   ]
  },
  {
   "cell_type": "markdown",
   "metadata": {},
   "source": [
    "# 3. Tratamento dos dados"
   ]
  },
  {
   "cell_type": "code",
   "execution_count": 20,
   "metadata": {},
   "outputs": [
    {
     "data": {
      "text/plain": [
       "(79, 14)"
      ]
     },
     "execution_count": 20,
     "metadata": {},
     "output_type": "execute_result"
    }
   ],
   "source": [
    "df.shape"
   ]
  },
  {
   "cell_type": "code",
   "execution_count": 7,
   "metadata": {},
   "outputs": [
    {
     "name": "stdout",
     "output_type": "stream",
     "text": [
      "<class 'pandas.core.frame.DataFrame'>\n",
      "RangeIndex: 79 entries, 0 to 78\n",
      "Data columns (total 14 columns):\n",
      " #   Column                    Non-Null Count  Dtype  \n",
      "---  ------                    --------------  -----  \n",
      " 0   _id                       79 non-null     int64  \n",
      " 1   tiporesiduo               79 non-null     object \n",
      " 2   nome                      79 non-null     object \n",
      " 3   bairro                    19 non-null     object \n",
      " 4   localizacao               79 non-null     object \n",
      " 5   endereco                  79 non-null     object \n",
      " 6   complemento               11 non-null     object \n",
      " 7   observacao                79 non-null     object \n",
      " 8   latitude                  79 non-null     float64\n",
      " 9   longitude                 79 non-null     float64\n",
      " 10  residuo_construcao_civil  79 non-null     object \n",
      " 11  residuo_solido_organico   79 non-null     object \n",
      " 12  residuo_volumoso          79 non-null     object \n",
      " 13  residuo_reciclavel        79 non-null     object \n",
      "dtypes: float64(2), int64(1), object(11)\n",
      "memory usage: 8.8+ KB\n"
     ]
    }
   ],
   "source": [
    "df.info()"
   ]
  },
  {
   "cell_type": "code",
   "execution_count": 8,
   "metadata": {},
   "outputs": [
    {
     "data": {
      "text/plain": [
       "complemento\n",
       "100    1\n",
       "150    1\n",
       "178    1\n",
       "483    1\n",
       "601    1\n",
       "s/n    6\n",
       "dtype: int64"
      ]
     },
     "execution_count": 8,
     "metadata": {},
     "output_type": "execute_result"
    }
   ],
   "source": [
    "# VARIAVEL 'COMPLEMENTO' ESTÁ COMO OBJECT. PASSA-LÁ PARA FLOAT OU INTEIRO\n",
    "df.groupby([\"complemento\"]).size()\n",
    "\n",
    "#Preciso fazer o tratamento dos dados, observe que tem um valor inserido como sem valor 's/n'\n",
    "\n",
    "# A primeira forma seria excluir todo o registro(coluna), porém isso resultaria em uma perda de dados\n",
    "# df.drop(df.Loc[df[\"complemento\"] == \"s/n\"].index, inplace=True)"
   ]
  },
  {
   "cell_type": "code",
   "execution_count": 13,
   "metadata": {},
   "outputs": [
    {
     "data": {
      "text/html": [
       "<div>\n",
       "<style scoped>\n",
       "    .dataframe tbody tr th:only-of-type {\n",
       "        vertical-align: middle;\n",
       "    }\n",
       "\n",
       "    .dataframe tbody tr th {\n",
       "        vertical-align: top;\n",
       "    }\n",
       "\n",
       "    .dataframe thead th {\n",
       "        text-align: right;\n",
       "    }\n",
       "</style>\n",
       "<table border=\"1\" class=\"dataframe\">\n",
       "  <thead>\n",
       "    <tr style=\"text-align: right;\">\n",
       "      <th></th>\n",
       "      <th>_id</th>\n",
       "      <th>tiporesiduo</th>\n",
       "      <th>nome</th>\n",
       "      <th>bairro</th>\n",
       "      <th>localizacao</th>\n",
       "      <th>endereco</th>\n",
       "      <th>complemento</th>\n",
       "      <th>observacao</th>\n",
       "      <th>latitude</th>\n",
       "      <th>longitude</th>\n",
       "      <th>residuo_construcao_civil</th>\n",
       "      <th>residuo_solido_organico</th>\n",
       "      <th>residuo_volumoso</th>\n",
       "      <th>residuo_reciclavel</th>\n",
       "    </tr>\n",
       "  </thead>\n",
       "  <tbody>\n",
       "    <tr>\n",
       "      <th>0</th>\n",
       "      <td>1</td>\n",
       "      <td>Materiais Recicláveis</td>\n",
       "      <td>Cooperativa</td>\n",
       "      <td>São José</td>\n",
       "      <td>Avenida Sul</td>\n",
       "      <td>Avenida Sul</td>\n",
       "      <td>s/n</td>\n",
       "      <td>Cooperativa</td>\n",
       "      <td>-8.075631</td>\n",
       "      <td>-34.891624</td>\n",
       "      <td>NÃO</td>\n",
       "      <td>NÃO</td>\n",
       "      <td>NÃO</td>\n",
       "      <td>SIM</td>\n",
       "    </tr>\n",
       "    <tr>\n",
       "      <th>1</th>\n",
       "      <td>2</td>\n",
       "      <td>Materiais Recicláveis</td>\n",
       "      <td>Cooperativa</td>\n",
       "      <td>São José</td>\n",
       "      <td>Avenida Sul</td>\n",
       "      <td>Avenida Sul</td>\n",
       "      <td>s/n</td>\n",
       "      <td>Cooperativa</td>\n",
       "      <td>-8.075631</td>\n",
       "      <td>-34.891624</td>\n",
       "      <td>NÃO</td>\n",
       "      <td>NÃO</td>\n",
       "      <td>NÃO</td>\n",
       "      <td>SIM</td>\n",
       "    </tr>\n",
       "    <tr>\n",
       "      <th>5</th>\n",
       "      <td>6</td>\n",
       "      <td>Materiais Recicláveis</td>\n",
       "      <td>Cooperativa</td>\n",
       "      <td>Guabiraba</td>\n",
       "      <td>Av. Padre Mosca de Carvalho</td>\n",
       "      <td>Av. Padre Mosca de Carvalho</td>\n",
       "      <td>s/n</td>\n",
       "      <td>Cooperativa</td>\n",
       "      <td>-7.964258</td>\n",
       "      <td>-34.924600</td>\n",
       "      <td>NÃO</td>\n",
       "      <td>NÃO</td>\n",
       "      <td>NÃO</td>\n",
       "      <td>SIM</td>\n",
       "    </tr>\n",
       "    <tr>\n",
       "      <th>6</th>\n",
       "      <td>7</td>\n",
       "      <td>Materiais Recicláveis</td>\n",
       "      <td>Cooperativa</td>\n",
       "      <td>Arruda</td>\n",
       "      <td>Avenida Professor José dos Anjos</td>\n",
       "      <td>Avenida Professor José dos Anjos</td>\n",
       "      <td>s/n</td>\n",
       "      <td>Cooperativa</td>\n",
       "      <td>-8.020267</td>\n",
       "      <td>-34.874597</td>\n",
       "      <td>NÃO</td>\n",
       "      <td>NÃO</td>\n",
       "      <td>NÃO</td>\n",
       "      <td>SIM</td>\n",
       "    </tr>\n",
       "    <tr>\n",
       "      <th>7</th>\n",
       "      <td>8</td>\n",
       "      <td>Materiais Recicláveis</td>\n",
       "      <td>Cooperativa</td>\n",
       "      <td>São José</td>\n",
       "      <td>Rua Pacatuba</td>\n",
       "      <td>Rua Pacatuba</td>\n",
       "      <td>s/n</td>\n",
       "      <td>Cooperativa</td>\n",
       "      <td>-8.076567</td>\n",
       "      <td>-34.897539</td>\n",
       "      <td>NÃO</td>\n",
       "      <td>NÃO</td>\n",
       "      <td>NÃO</td>\n",
       "      <td>SIM</td>\n",
       "    </tr>\n",
       "    <tr>\n",
       "      <th>8</th>\n",
       "      <td>9</td>\n",
       "      <td>Materiais Recicláveis</td>\n",
       "      <td>Cooperativa</td>\n",
       "      <td>São José</td>\n",
       "      <td>Rua Oscar de Melo</td>\n",
       "      <td>Rua Oscar de Melo</td>\n",
       "      <td>s/n</td>\n",
       "      <td>Cooperativa</td>\n",
       "      <td>-8.077965</td>\n",
       "      <td>-34.899157</td>\n",
       "      <td>NÃO</td>\n",
       "      <td>NÃO</td>\n",
       "      <td>NÃO</td>\n",
       "      <td>SIM</td>\n",
       "    </tr>\n",
       "  </tbody>\n",
       "</table>\n",
       "</div>"
      ],
      "text/plain": [
       "   _id            tiporesiduo         nome     bairro  \\\n",
       "0    1  Materiais Recicláveis  Cooperativa   São José   \n",
       "1    2  Materiais Recicláveis  Cooperativa   São José   \n",
       "5    6  Materiais Recicláveis  Cooperativa  Guabiraba   \n",
       "6    7  Materiais Recicláveis  Cooperativa     Arruda   \n",
       "7    8  Materiais Recicláveis  Cooperativa   São José   \n",
       "8    9  Materiais Recicláveis  Cooperativa   São José   \n",
       "\n",
       "                        localizacao                          endereco  \\\n",
       "0                       Avenida Sul                       Avenida Sul   \n",
       "1                       Avenida Sul                       Avenida Sul   \n",
       "5       Av. Padre Mosca de Carvalho       Av. Padre Mosca de Carvalho   \n",
       "6  Avenida Professor José dos Anjos  Avenida Professor José dos Anjos   \n",
       "7                      Rua Pacatuba                      Rua Pacatuba   \n",
       "8                 Rua Oscar de Melo                 Rua Oscar de Melo   \n",
       "\n",
       "  complemento   observacao  latitude  longitude residuo_construcao_civil  \\\n",
       "0         s/n  Cooperativa -8.075631 -34.891624                      NÃO   \n",
       "1         s/n  Cooperativa -8.075631 -34.891624                      NÃO   \n",
       "5         s/n  Cooperativa -7.964258 -34.924600                      NÃO   \n",
       "6         s/n  Cooperativa -8.020267 -34.874597                      NÃO   \n",
       "7         s/n  Cooperativa -8.076567 -34.897539                      NÃO   \n",
       "8         s/n  Cooperativa -8.077965 -34.899157                      NÃO   \n",
       "\n",
       "  residuo_solido_organico residuo_volumoso residuo_reciclavel  \n",
       "0                     NÃO              NÃO                SIM  \n",
       "1                     NÃO              NÃO                SIM  \n",
       "5                     NÃO              NÃO                SIM  \n",
       "6                     NÃO              NÃO                SIM  \n",
       "7                     NÃO              NÃO                SIM  \n",
       "8                     NÃO              NÃO                SIM  "
      ]
     },
     "execution_count": 13,
     "metadata": {},
     "output_type": "execute_result"
    }
   ],
   "source": [
    "# A segunda forma é verificar o valor médio oy da mediana deste modelo e substituir a palvra S/N para um valor médio\n",
    "\n",
    "#loc filtrar valores, filtrar condições, substituir valores/ iloc é pelo indice\n",
    "df.loc[df[\"complemento\"] == \"s/n\"]"
   ]
  },
  {
   "cell_type": "code",
   "execution_count": 17,
   "metadata": {},
   "outputs": [],
   "source": [
    "# Agora substituímos a palavra s/n por 0\n",
    "df.loc[(df[\"complemento\"] == \"s/n\"), \"complemento\"] = 0\n",
    "\n",
    "# Em seguida convertemos o campo em float\n",
    "df[\"complemento\"] = df[\"complemento\"].astype(np.float64)\n",
    "\n",
    "#Pronto"
   ]
  },
  {
   "cell_type": "code",
   "execution_count": 35,
   "metadata": {},
   "outputs": [
    {
     "data": {
      "text/plain": [
       "_id                          0\n",
       "tiporesiduo                  0\n",
       "nome                         0\n",
       "bairro                      60\n",
       "localizacao                  0\n",
       "endereco                     0\n",
       "complemento                 68\n",
       "observacao                   0\n",
       "latitude                     0\n",
       "longitude                    0\n",
       "residuo_construcao_civil     0\n",
       "residuo_solido_organico      0\n",
       "residuo_volumoso             0\n",
       "residuo_reciclavel           0\n",
       "dtype: int64"
      ]
     },
     "execution_count": 35,
     "metadata": {},
     "output_type": "execute_result"
    }
   ],
   "source": [
    "# Verificar se há valores nulos, ou seja, há 60 valores nulos em bairro. Fazer o tratamento\n",
    "df.isnull().sum()"
   ]
  },
  {
   "cell_type": "code",
   "execution_count": 40,
   "metadata": {},
   "outputs": [],
   "source": [
    "# Uma forma bem mais simples de tratarmos o dado é utilizar direto a função FILLNA preenchendo os valores em branco \n",
    "# com a mediana\n",
    "df[\"complemento\"] = df[\"complemento\"].fillna((df[\"complemento\"].median()))\n",
    "\n",
    "#No caso de Strings, substitua os valores nulos para outra palavra\n",
    "df[\"bairro\"] = df[\"bairro\"].fillna(\"Desconhecido\")"
   ]
  },
  {
   "cell_type": "code",
   "execution_count": 41,
   "metadata": {},
   "outputs": [
    {
     "data": {
      "text/plain": [
       "_id                         0\n",
       "tiporesiduo                 0\n",
       "nome                        0\n",
       "bairro                      0\n",
       "localizacao                 0\n",
       "endereco                    0\n",
       "complemento                 0\n",
       "observacao                  0\n",
       "latitude                    0\n",
       "longitude                   0\n",
       "residuo_construcao_civil    0\n",
       "residuo_solido_organico     0\n",
       "residuo_volumoso            0\n",
       "residuo_reciclavel          0\n",
       "dtype: int64"
      ]
     },
     "execution_count": 41,
     "metadata": {},
     "output_type": "execute_result"
    }
   ],
   "source": [
    "# Observe que não há mais valores nulos\n",
    "df.isnull().sum()"
   ]
  },
  {
   "cell_type": "code",
   "execution_count": 43,
   "metadata": {},
   "outputs": [
    {
     "name": "stdout",
     "output_type": "stream",
     "text": [
      "<class 'pandas.core.frame.DataFrame'>\n",
      "RangeIndex: 79 entries, 0 to 78\n",
      "Data columns (total 14 columns):\n",
      " #   Column                    Non-Null Count  Dtype  \n",
      "---  ------                    --------------  -----  \n",
      " 0   _id                       79 non-null     int64  \n",
      " 1   tiporesiduo               79 non-null     object \n",
      " 2   nome                      79 non-null     object \n",
      " 3   bairro                    79 non-null     object \n",
      " 4   localizacao               79 non-null     object \n",
      " 5   endereco                  79 non-null     object \n",
      " 6   complemento               79 non-null     float64\n",
      " 7   observacao                79 non-null     object \n",
      " 8   latitude                  79 non-null     float64\n",
      " 9   longitude                 79 non-null     float64\n",
      " 10  residuo_construcao_civil  79 non-null     object \n",
      " 11  residuo_solido_organico   79 non-null     object \n",
      " 12  residuo_volumoso          79 non-null     object \n",
      " 13  residuo_reciclavel        79 non-null     object \n",
      "dtypes: float64(3), int64(1), object(10)\n",
      "memory usage: 8.8+ KB\n"
     ]
    }
   ],
   "source": [
    "# Vamos avaliar novamente\n",
    "df.info()"
   ]
  },
  {
   "cell_type": "code",
   "execution_count": 44,
   "metadata": {},
   "outputs": [
    {
     "name": "stdout",
     "output_type": "stream",
     "text": [
      "_id : int64\n",
      "complemento : float64\n",
      "latitude : float64\n",
      "longitude : float64\n"
     ]
    }
   ],
   "source": [
    "# Vamos analisar os outliers das colunas númericas\n",
    "#outliers são valores discrepantes um dos outros ex: 10-500\n",
    "\n",
    "numeros = []\n",
    "\n",
    "for i in df.columns[0:78].tolist():\n",
    "    if df.dtypes[i] == \"int64\" or df.dtypes[i] == \"float64\":\n",
    "        print(i, \":\", df.dtypes[i])\n",
    "        numeros.append(i)"
   ]
  },
  {
   "cell_type": "code",
   "execution_count": 51,
   "metadata": {},
   "outputs": [
    {
     "data": {
      "image/png": "[encoded data removed]",
      "text/plain": [
       "<Figure size 1200x1400 with 6 Axes>"
      ]
     },
     "metadata": {},
     "output_type": "display_data"
    }
   ],
   "source": [
    "# Para cada variavel que for passando no for, vai montando um grafo\n",
    "plt.rcParams[\"figure.figsize\"] = [12.00, 14.00]\n",
    "plt.rcParams[\"figure.autolayout\"] = True\n",
    "\n",
    "#Aqui definimos em quantas linhas e colunas queremos exibir os gráficos\n",
    "f, axes = plt.subplots(3,2) #3 linhas e 2 colunas\n",
    "\n",
    "linha = 0\n",
    "coluna = 0\n",
    "\n",
    "\n",
    "for i in numeros:\n",
    "    sns.boxplot(data = df, y = i, ax = axes[linha][coluna])\n",
    "    coluna += 1\n",
    "    if coluna == 2:\n",
    "        linha += 1\n",
    "        coluna = 0\n",
    "\n",
    "plt.show()"
   ]
  },
  {
   "cell_type": "code",
   "execution_count": null,
   "metadata": {},
   "outputs": [],
   "source": []
  }
 ],
 "metadata": {
  "kernelspec": {
   "display_name": "Python 3",
   "language": "python",
   "name": "python3"
  },
  "language_info": {
   "codemirror_mode": {
    "name": "ipython",
    "version": 3
   },
   "file_extension": ".py",
   "mimetype": "text/x-python",
   "name": "python",
   "nbconvert_exporter": "python",
   "pygments_lexer": "ipython3",
   "version": "3.11.4"
  }
 },
 "nbformat": 4,
 "nbformat_minor": 2
}
