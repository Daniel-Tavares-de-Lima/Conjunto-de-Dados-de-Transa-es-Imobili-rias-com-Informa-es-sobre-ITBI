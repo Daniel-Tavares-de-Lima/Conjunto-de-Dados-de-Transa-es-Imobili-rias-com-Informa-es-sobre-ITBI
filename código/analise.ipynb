{
 "cells": [
  {
   "cell_type": "markdown",
   "metadata": {},
   "source": [
    "# Introdução"
   ]
  },
  {
   "cell_type": "markdown",
   "metadata": {},
   "source": [
    "A análise abaixo foi feita utilizando dados do RH da IBM que foram disponibilizadps no site www.kaggle.com\n",
    "Link do dataset(https://www.kaggle.com/datasets/adamrbarr/recife-real-estate-transactions-2015-to-2023)\n",
    "\n",
    "# Motivação\n",
    "A motivação para este projeto é para treinar minha cocepção e conhecimentos com análise de dados com python, bibliotecas relacionadas e jupyter. Quero aprender novos conceitos como tratamento de dados, visão análitica e exploratória além de ter uma boa análise Estátisca com esse projeto.\n",
    "\n",
    "# Perguntas que tentarei responder através da análise\n",
    "Qual é a distribuição dos valores das transações imobiliárias?; ual é a distribuição dos valores das transações imobiliárias?; Qual é a relação entre o valor do ITBI e o valor da transação imobiliária?; Como as isenções ou descontos afetam o valor total do ITBI pago?; Existe uma correlação entre a localização geográfica dos imóveis e o valor do ITBI?; Entre outras que possam surgir.\n",
    "\n",
    "# Objetivo\n",
    "O objetivo principal é obter insights valiosos que possam informar estratégias de investimento, políticas fiscais e planejamento urbano, além de facilitar a pesquisa e análise baseadas em dados no campo da economia imobiliária e tributação.\n",
    "\n",
    "# Conclusão\n",
    "Ao responder às perguntas acima e analisar os dados, espero obter uma compreensão mais profunda da dinâmica do mercado imobiliário, tendências tributárias e padrões de transferência de propriedade, o que pode ajudar na tomada de decisões informadas por parte de pesquisadores, analistas e formuladores de políticas.\n"
   ]
  },
  {
   "cell_type": "code",
   "execution_count": 1,
   "metadata": {},
   "outputs": [],
   "source": [
    "import pandas as pd"
   ]
  },
  {
   "cell_type": "code",
   "execution_count": 7,
   "metadata": {},
   "outputs": [
    {
     "data": {
      "text/html": [
       "<div>\n",
       "<style scoped>\n",
       "    .dataframe tbody tr th:only-of-type {\n",
       "        vertical-align: middle;\n",
       "    }\n",
       "\n",
       "    .dataframe tbody tr th {\n",
       "        vertical-align: top;\n",
       "    }\n",
       "\n",
       "    .dataframe thead th {\n",
       "        text-align: right;\n",
       "    }\n",
       "</style>\n",
       "<table border=\"1\" class=\"dataframe\">\n",
       "  <thead>\n",
       "    <tr style=\"text-align: right;\">\n",
       "      <th></th>\n",
       "      <th></th>\n",
       "      <th></th>\n",
       "      <th>logradouro;numero;complemento;bairro;cidade;uf;ano_construcao;area_terreno;area_construida;fracao_ideal;padrao_acabamento;tipo_construcao;tipo_ocupa;valor_avaliacao;data_transacao;estado_conservacao;tipo_imovel;sfh;ano</th>\n",
       "    </tr>\n",
       "  </thead>\n",
       "  <tbody>\n",
       "    <tr>\n",
       "      <th>RUA FRANCISCO DA CUNHA;1640;APTO 1302 BLOCO A;BOA VIAGEM;RECIFE;PE;2013;2760</th>\n",
       "      <th>96;173</th>\n",
       "      <th>18;0</th>\n",
       "      <td>00962;Superior;Apartamento &gt; 4 Pavimentos;RESI...</td>\n",
       "    </tr>\n",
       "    <tr>\n",
       "      <th>RUA LARGA DO FEITOSA;282;APTO 804 EDF MORADA LARGA DO FEITOSA;ENCRUZILHADA;RECIFE;PE;2015;1625</th>\n",
       "      <th>9;96</th>\n",
       "      <th>9;0</th>\n",
       "      <td>00985;Superior;Apartamento &gt; 4 Pavimentos;RESI...</td>\n",
       "    </tr>\n",
       "    <tr>\n",
       "      <th rowspan=\"2\" valign=\"top\">AV REPUBLICA DO LIBANO;251;SALA 2506 TORRE A;PINA;RECIFE;PE;2012;202710</th>\n",
       "      <th rowspan=\"2\" valign=\"top\">7;115</th>\n",
       "      <th>04;0</th>\n",
       "      <td>00018;Superior;Sala &gt; 4 Pavimentos;COMERCIAL C...</td>\n",
       "    </tr>\n",
       "    <tr>\n",
       "      <th>04;0</th>\n",
       "      <td>00018;Superior;Sala &gt; 4 Pavimentos;COMERCIAL C...</td>\n",
       "    </tr>\n",
       "    <tr>\n",
       "      <th>RUA JOSE MOREIRA LEAL;34;APTO 0202 EDF GOLDEN STAR;BOA VIAGEM;RECIFE;PE;2000;882</th>\n",
       "      <th>0;114</th>\n",
       "      <th>83;0</th>\n",
       "      <td>02247;Médio;Apartamento &gt; 4 Pavimentos;RESIDEN...</td>\n",
       "    </tr>\n",
       "  </tbody>\n",
       "</table>\n",
       "</div>"
      ],
      "text/plain": [
       "                                                               logradouro;numero;complemento;bairro;cidade;uf;ano_construcao;area_terreno;area_construida;fracao_ideal;padrao_acabamento;tipo_construcao;tipo_ocupa;valor_avaliacao;data_transacao;estado_conservacao;tipo_imovel;sfh;ano\n",
       "RUA FRANCISCO DA CUNHA;1640;APTO 1302 BLOCO A;B... 96;173 18;0  00962;Superior;Apartamento > 4 Pavimentos;RESI...                                                                                                                                                                        \n",
       "RUA LARGA DO FEITOSA;282;APTO 804 EDF MORADA LA... 9;96   9;0   00985;Superior;Apartamento > 4 Pavimentos;RESI...                                                                                                                                                                        \n",
       "AV REPUBLICA DO LIBANO;251;SALA 2506 TORRE A;PI... 7;115  04;0  00018;Superior;Sala > 4 Pavimentos;COMERCIAL C...                                                                                                                                                                        \n",
       "                                                          04;0  00018;Superior;Sala > 4 Pavimentos;COMERCIAL C...                                                                                                                                                                        \n",
       "RUA JOSE MOREIRA LEAL;34;APTO 0202 EDF GOLDEN S... 0;114  83;0  02247;Médio;Apartamento > 4 Pavimentos;RESIDEN...                                                                                                                                                                        "
      ]
     },
     "execution_count": 7,
     "metadata": {},
     "output_type": "execute_result"
    }
   ],
   "source": [
    "pd = pd.read_csv(\"../dataset/itbi_2015.csv\")\n",
    "pd.head()"
   ]
  },
  {
   "cell_type": "code",
   "execution_count": null,
   "metadata": {},
   "outputs": [],
   "source": []
  }
 ],
 "metadata": {
  "kernelspec": {
   "display_name": "Python 3",
   "language": "python",
   "name": "python3"
  },
  "language_info": {
   "codemirror_mode": {
    "name": "ipython",
    "version": 3
   },
   "file_extension": ".py",
   "mimetype": "text/x-python",
   "name": "python",
   "nbconvert_exporter": "python",
   "pygments_lexer": "ipython3",
   "version": "3.11.4"
  }
 },
 "nbformat": 4,
 "nbformat_minor": 2
}
